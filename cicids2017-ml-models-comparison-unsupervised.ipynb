{
 "cells": [
  {
   "cell_type": "markdown",
   "id": "7947eabe",
   "metadata": {
    "papermill": {
     "duration": 0.004795,
     "end_time": "2025-01-13T10:57:23.413185",
     "exception": false,
     "start_time": "2025-01-13T10:57:23.408390",
     "status": "completed"
    },
    "tags": []
   },
   "source": [
    "# Supervised Learning Models for Anomaly-Based Intrusion Detection (WORK IN PROGRESS)\n",
    "\n",
    "This Jupyter Notebook focuses on training and evaluating unsupervised machine learning models for anomaly-based intrusion detection. It builds upon the preprocessed CICIDS2017 dataset, prepared in the **data preprocessing [notebook available here](https://www.kaggle.com/code/ericanacletoribeiro/cicids2017-comprehensive-data-processing-for-ml)** and continuous the performance analysis started on the **[supervised learning notebook](https://www.kaggle.com/code/ericanacletoribeiro/cicids2017-ml-models-comparison-supervised)**. \n",
    "\n",
    "The broader goal is to develop a Network Intrusion Detection System (NIDS) prototype capable of identifying a range of network attacks, such as DoS, PortScan, and Brute Force, while balancing detection accuracy with computational efficiency. This is particularly critical in resource-constrained environments, focus of the project. The complete pipeline is documented on [Github](https://github.com/anacletu/ml-intrusion-detection-cicids2017).\n",
    "\n",
    "**Models Being Evaluated:**\n",
    "\n",
    "* **Supervised Learning ([Previous Notebook](https://www.kaggle.com/code/ericanacletoribeiro/cicids2017-ml-models-comparison-supervised)):**\n",
    "    * Random Forest\n",
    "    * XGBoost\n",
    "    * Logisc Regression\n",
    "\n",
    "* **Unsupervised Learning (This Notebook):**\n",
    "    * Isolation Forest\n",
    "    * Mini-Batch KMeans\n",
    "    * Autoencoders\n",
    "\n",
    "**Evaluation Strategy:**\n",
    "\n",
    "The models are assessed using k-fold cross-validation on the training data, with a separate hold-out test set reserved for final evaluation. Key performance metrics include accuracy, precision, recall, F1-score, ROC-AUC, and resource usage (CPU time and memory consumption). These metrics provide critical insights into algorithm efficiency and effectiveness, essential for real-time deployment in resource-constrained networks.\n",
    "\n",
    "This notebook presents the training process, hyperparameter tuning, and comparative analysis of the selected unsupervised learning models."
   ]
  },
  {
   "cell_type": "code",
   "execution_count": 1,
   "id": "b1f4c62e",
   "metadata": {
    "execution": {
     "iopub.execute_input": "2025-01-13T10:57:23.422739Z",
     "iopub.status.busy": "2025-01-13T10:57:23.422372Z",
     "iopub.status.idle": "2025-01-13T10:57:33.666642Z",
     "shell.execute_reply": "2025-01-13T10:57:33.665506Z"
    },
    "papermill": {
     "duration": 10.250975,
     "end_time": "2025-01-13T10:57:33.668419",
     "exception": false,
     "start_time": "2025-01-13T10:57:23.417444",
     "status": "completed"
    },
    "tags": []
   },
   "outputs": [
    {
     "name": "stdout",
     "output_type": "stream",
     "text": [
      "Collecting memory_profiler\r\n",
      "  Downloading memory_profiler-0.61.0-py3-none-any.whl.metadata (20 kB)\r\n",
      "Requirement already satisfied: psutil in /usr/local/lib/python3.10/dist-packages (from memory_profiler) (5.9.5)\r\n",
      "Downloading memory_profiler-0.61.0-py3-none-any.whl (31 kB)\r\n",
      "Installing collected packages: memory_profiler\r\n",
      "Successfully installed memory_profiler-0.61.0\r\n",
      "Requirement already satisfied: psutil in /usr/local/lib/python3.10/dist-packages (5.9.5)\r\n"
     ]
    }
   ],
   "source": [
    "# Installing extra components\n",
    "!pip install memory_profiler\n",
    "!pip install psutil"
   ]
  },
  {
   "cell_type": "code",
   "execution_count": 2,
   "id": "9a180882",
   "metadata": {
    "_cell_guid": "b1076dfc-b9ad-4769-8c92-a6c4dae69d19",
    "_uuid": "8f2839f25d086af736a60e9eeb907d3b93b6e0e5",
    "execution": {
     "iopub.execute_input": "2025-01-13T10:57:33.678467Z",
     "iopub.status.busy": "2025-01-13T10:57:33.678045Z",
     "iopub.status.idle": "2025-01-13T10:57:37.006133Z",
     "shell.execute_reply": "2025-01-13T10:57:37.004844Z"
    },
    "papermill": {
     "duration": 3.335335,
     "end_time": "2025-01-13T10:57:37.008193",
     "exception": false,
     "start_time": "2025-01-13T10:57:33.672858",
     "status": "completed"
    },
    "tags": []
   },
   "outputs": [],
   "source": [
    "# Importing the relevant libraries\n",
    "import numpy as np \n",
    "import pandas as pd \n",
    "import matplotlib.pyplot as plt\n",
    "import seaborn as sns\n",
    "import xgboost as xgb\n",
    "\n",
    "from sklearn.preprocessing import RobustScaler\n",
    "from sklearn.model_selection import train_test_split, cross_val_score, RandomizedSearchCV\n",
    "from sklearn.metrics import roc_auc_score, roc_curve, auc\n",
    "\n",
    "from imblearn.under_sampling import RandomUnderSampler\n",
    "from imblearn.over_sampling import SMOTE\n",
    "\n",
    "import time\n",
    "import psutil\n",
    "import threading\n",
    "from memory_profiler import memory_usage\n",
    "\n",
    "import joblib"
   ]
  },
  {
   "cell_type": "markdown",
   "id": "e27f035b",
   "metadata": {
    "papermill": {
     "duration": 0.005325,
     "end_time": "2025-01-13T10:57:37.017872",
     "exception": false,
     "start_time": "2025-01-13T10:57:37.012547",
     "status": "completed"
    },
    "tags": []
   },
   "source": [
    "# Helper Functions"
   ]
  },
  {
   "cell_type": "code",
   "execution_count": 3,
   "id": "b41a9e5d",
   "metadata": {
    "execution": {
     "iopub.execute_input": "2025-01-13T10:57:37.029364Z",
     "iopub.status.busy": "2025-01-13T10:57:37.028847Z",
     "iopub.status.idle": "2025-01-13T10:57:37.033106Z",
     "shell.execute_reply": "2025-01-13T10:57:37.032046Z"
    },
    "papermill": {
     "duration": 0.011387,
     "end_time": "2025-01-13T10:57:37.034946",
     "exception": false,
     "start_time": "2025-01-13T10:57:37.023559",
     "status": "completed"
    },
    "tags": []
   },
   "outputs": [],
   "source": [
    "# TO DO"
   ]
  },
  {
   "cell_type": "markdown",
   "id": "9fc33052",
   "metadata": {
    "papermill": {
     "duration": 0.003843,
     "end_time": "2025-01-13T10:57:37.043247",
     "exception": false,
     "start_time": "2025-01-13T10:57:37.039404",
     "status": "completed"
    },
    "tags": []
   },
   "source": [
    "# 1. Data Preparation: Test/Train Split, Sampling, and Scaling"
   ]
  },
  {
   "cell_type": "markdown",
   "id": "e8521179",
   "metadata": {
    "papermill": {
     "duration": 0.003726,
     "end_time": "2025-01-13T10:57:37.051056",
     "exception": false,
     "start_time": "2025-01-13T10:57:37.047330",
     "status": "completed"
    },
    "tags": []
   },
   "source": [
    "This section replicates the **data preparation process used in the [previous notebook](https://www.kaggle.com/code/ericanacletoribeiro/cicids2017-ml-models-comparison-supervised)**, which focuses on supervised algorithms. To avoid redundancy, detailed explanations of the steps—such as splitting the data into training and testing sets, applying scaling, and handling any preprocessing nuances—are not repeated here.\n",
    "\n",
    "If you haven't reviewed the earlier notebook yet, I recommend doing so. It provides a more detailed walkthrough of these steps, including the rationale behind key decisions, such as the choice of scaling method and how resampling.\n",
    "\n",
    "By adhering to the same preparation methodology, we ensure consistency in the data pipeline, facilitating fair comparisons between supervised and unsupervised models."
   ]
  },
  {
   "cell_type": "code",
   "execution_count": 4,
   "id": "16f27820",
   "metadata": {
    "execution": {
     "iopub.execute_input": "2025-01-13T10:57:37.060365Z",
     "iopub.status.busy": "2025-01-13T10:57:37.059963Z",
     "iopub.status.idle": "2025-01-13T10:58:00.512604Z",
     "shell.execute_reply": "2025-01-13T10:58:00.511459Z"
    },
    "papermill": {
     "duration": 23.459544,
     "end_time": "2025-01-13T10:58:00.514620",
     "exception": false,
     "start_time": "2025-01-13T10:57:37.055076",
     "status": "completed"
    },
    "tags": []
   },
   "outputs": [],
   "source": [
    "# Loading the dataset\n",
    "clean_df = pd.read_csv('/kaggle/input/cicids2017_cleaned.csv')"
   ]
  },
  {
   "cell_type": "code",
   "execution_count": 5,
   "id": "f35d9825",
   "metadata": {
    "execution": {
     "iopub.execute_input": "2025-01-13T10:58:00.524836Z",
     "iopub.status.busy": "2025-01-13T10:58:00.524506Z",
     "iopub.status.idle": "2025-01-13T10:58:06.101391Z",
     "shell.execute_reply": "2025-01-13T10:58:06.100225Z"
    },
    "papermill": {
     "duration": 5.584285,
     "end_time": "2025-01-13T10:58:06.103460",
     "exception": false,
     "start_time": "2025-01-13T10:58:00.519175",
     "status": "completed"
    },
    "tags": []
   },
   "outputs": [],
   "source": [
    "# Preparing training and test splits\n",
    "X = clean_df.drop('Attack Type', axis=1)\n",
    "y = clean_df['Attack Type']\n",
    "\n",
    "X_train, X_test, y_train, y_test = train_test_split(X, y, test_size=0.3, random_state=42, stratify=y)"
   ]
  },
  {
   "cell_type": "code",
   "execution_count": 6,
   "id": "9aab6b9f",
   "metadata": {
    "execution": {
     "iopub.execute_input": "2025-01-13T10:58:06.113904Z",
     "iopub.status.busy": "2025-01-13T10:58:06.113525Z",
     "iopub.status.idle": "2025-01-13T10:58:10.552145Z",
     "shell.execute_reply": "2025-01-13T10:58:10.551187Z"
    },
    "papermill": {
     "duration": 4.446001,
     "end_time": "2025-01-13T10:58:10.553991",
     "exception": false,
     "start_time": "2025-01-13T10:58:06.107990",
     "status": "completed"
    },
    "tags": []
   },
   "outputs": [],
   "source": [
    "# Initialize RobustScaler\n",
    "scaler = RobustScaler()\n",
    "\n",
    "# Fit and transform the training data\n",
    "X_train_scaled = scaler.fit_transform(X_train)\n",
    "\n",
    "# Transform the test set using the fitted scaler\n",
    "X_test_scaled = scaler.transform(X_test)"
   ]
  },
  {
   "cell_type": "code",
   "execution_count": 7,
   "id": "0062101a",
   "metadata": {
    "execution": {
     "iopub.execute_input": "2025-01-13T10:58:10.563576Z",
     "iopub.status.busy": "2025-01-13T10:58:10.563214Z",
     "iopub.status.idle": "2025-01-13T10:58:31.242458Z",
     "shell.execute_reply": "2025-01-13T10:58:31.241361Z"
    },
    "papermill": {
     "duration": 20.68591,
     "end_time": "2025-01-13T10:58:31.244296",
     "exception": false,
     "start_time": "2025-01-13T10:58:10.558386",
     "status": "completed"
    },
    "tags": []
   },
   "outputs": [],
   "source": [
    "# Initializing the undersampling for the clean df\n",
    "X_train_resampled, y_train_resampled = RandomUnderSampler(sampling_strategy={'Normal Traffic': 500000}, random_state=42).fit_resample(X_train, y_train)\n",
    "\n",
    "# Initializing the undersampling for the scaled df\n",
    "X_train_scaled, y_train_scaled = RandomUnderSampler(sampling_strategy={'Normal Traffic': 500000}, random_state=42).fit_resample(X_train_scaled, y_train)"
   ]
  },
  {
   "cell_type": "code",
   "execution_count": 8,
   "id": "83b61205",
   "metadata": {
    "execution": {
     "iopub.execute_input": "2025-01-13T10:58:31.254093Z",
     "iopub.status.busy": "2025-01-13T10:58:31.253720Z",
     "iopub.status.idle": "2025-01-13T11:00:05.954091Z",
     "shell.execute_reply": "2025-01-13T11:00:05.952925Z"
    },
    "papermill": {
     "duration": 94.707486,
     "end_time": "2025-01-13T11:00:05.956201",
     "exception": false,
     "start_time": "2025-01-13T10:58:31.248715",
     "status": "completed"
    },
    "tags": []
   },
   "outputs": [],
   "source": [
    "# Initializing the oversampling for the scaled df\n",
    "X_train_resampled_scaled, y_train_resampled_scaled = SMOTE(sampling_strategy={'Bots': 2000, 'Web Attacks': 2000, 'Brute Force': 7000, 'Port Scanning': 70000, 'DDoS':90000, 'DoS': 200000}, random_state=42).fit_resample(X_train_scaled, y_train_scaled)"
   ]
  },
  {
   "cell_type": "code",
   "execution_count": 9,
   "id": "7f959dca",
   "metadata": {
    "execution": {
     "iopub.execute_input": "2025-01-13T11:00:05.966228Z",
     "iopub.status.busy": "2025-01-13T11:00:05.965728Z",
     "iopub.status.idle": "2025-01-13T11:00:05.987672Z",
     "shell.execute_reply": "2025-01-13T11:00:05.986608Z"
    },
    "papermill": {
     "duration": 0.028728,
     "end_time": "2025-01-13T11:00:05.989404",
     "exception": false,
     "start_time": "2025-01-13T11:00:05.960676",
     "status": "completed"
    },
    "tags": []
   },
   "outputs": [],
   "source": [
    "# Cleaning up\n",
    "del X_train_scaled, X_train, y_train, X, y, clean_df"
   ]
  },
  {
   "cell_type": "code",
   "execution_count": 10,
   "id": "3b339072",
   "metadata": {
    "execution": {
     "iopub.execute_input": "2025-01-13T11:00:05.999519Z",
     "iopub.status.busy": "2025-01-13T11:00:05.998994Z",
     "iopub.status.idle": "2025-01-13T11:00:06.069322Z",
     "shell.execute_reply": "2025-01-13T11:00:06.068275Z"
    },
    "papermill": {
     "duration": 0.077104,
     "end_time": "2025-01-13T11:00:06.070985",
     "exception": false,
     "start_time": "2025-01-13T11:00:05.993881",
     "status": "completed"
    },
    "tags": []
   },
   "outputs": [
    {
     "data": {
      "text/plain": [
       "Attack Type\n",
       "Normal Traffic    500000\n",
       "DoS               135621\n",
       "DDoS               89610\n",
       "Port Scanning      63486\n",
       "Brute Force         6405\n",
       "Web Attacks         1500\n",
       "Bots                1364\n",
       "Name: count, dtype: int64"
      ]
     },
     "execution_count": 10,
     "metadata": {},
     "output_type": "execute_result"
    }
   ],
   "source": [
    "# Checking the distribution of the attack types in the resampled/raw training set\n",
    "y_train_scaled.value_counts()"
   ]
  },
  {
   "cell_type": "code",
   "execution_count": 11,
   "id": "aa6dfe5c",
   "metadata": {
    "execution": {
     "iopub.execute_input": "2025-01-13T11:00:06.080926Z",
     "iopub.status.busy": "2025-01-13T11:00:06.080545Z",
     "iopub.status.idle": "2025-01-13T11:00:06.151729Z",
     "shell.execute_reply": "2025-01-13T11:00:06.150801Z"
    },
    "papermill": {
     "duration": 0.077871,
     "end_time": "2025-01-13T11:00:06.153330",
     "exception": false,
     "start_time": "2025-01-13T11:00:06.075459",
     "status": "completed"
    },
    "tags": []
   },
   "outputs": [
    {
     "data": {
      "text/plain": [
       "Attack Type\n",
       "Normal Traffic    500000\n",
       "DoS               200000\n",
       "DDoS               90000\n",
       "Port Scanning      70000\n",
       "Brute Force         7000\n",
       "Bots                2000\n",
       "Web Attacks         2000\n",
       "Name: count, dtype: int64"
      ]
     },
     "execution_count": 11,
     "metadata": {},
     "output_type": "execute_result"
    }
   ],
   "source": [
    "# Checking the distribution of the attack types in the resampled/scaled training set\n",
    "y_train_resampled_scaled.value_counts()"
   ]
  },
  {
   "cell_type": "markdown",
   "id": "c5fad8da",
   "metadata": {
    "papermill": {
     "duration": 0.004145,
     "end_time": "2025-01-13T11:00:06.162022",
     "exception": false,
     "start_time": "2025-01-13T11:00:06.157877",
     "status": "completed"
    },
    "tags": []
   },
   "source": [
    "# 2. Unsupervised Learning"
   ]
  },
  {
   "cell_type": "markdown",
   "id": "bad00eb5",
   "metadata": {
    "papermill": {
     "duration": 0.003957,
     "end_time": "2025-01-13T11:00:06.170294",
     "exception": false,
     "start_time": "2025-01-13T11:00:06.166337",
     "status": "completed"
    },
    "tags": []
   },
   "source": [
    "# 3. Comparing Performance Results"
   ]
  }
 ],
 "metadata": {
  "kaggle": {
   "accelerator": "none",
   "dataSources": [
    {
     "datasetId": 6452957,
     "sourceId": 10450388,
     "sourceType": "datasetVersion"
    }
   ],
   "dockerImageVersionId": 30822,
   "isGpuEnabled": false,
   "isInternetEnabled": true,
   "language": "python",
   "sourceType": "notebook"
  },
  "kernelspec": {
   "display_name": "Python 3",
   "language": "python",
   "name": "python3"
  },
  "language_info": {
   "codemirror_mode": {
    "name": "ipython",
    "version": 3
   },
   "file_extension": ".py",
   "mimetype": "text/x-python",
   "name": "python",
   "nbconvert_exporter": "python",
   "pygments_lexer": "ipython3",
   "version": "3.10.12"
  },
  "papermill": {
   "default_parameters": {},
   "duration": 165.719837,
   "end_time": "2025-01-13T11:00:06.894629",
   "environment_variables": {},
   "exception": null,
   "input_path": "__notebook__.ipynb",
   "output_path": "__notebook__.ipynb",
   "parameters": {},
   "start_time": "2025-01-13T10:57:21.174792",
   "version": "2.6.0"
  }
 },
 "nbformat": 4,
 "nbformat_minor": 5
}
