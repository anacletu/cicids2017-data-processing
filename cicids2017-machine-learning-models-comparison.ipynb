{
 "cells": [
  {
   "cell_type": "markdown",
   "id": "c3c5fe94",
   "metadata": {
    "papermill": {
     "duration": 0.004945,
     "end_time": "2025-01-10T10:40:26.912874",
     "exception": false,
     "start_time": "2025-01-10T10:40:26.907929",
     "status": "completed"
    },
    "tags": []
   },
   "source": [
    "# Anomaly-Based Intrusion Detection: Model Training and Evaluation\n",
    "\n",
    "This Jupyter Notebook details the next stage of my project, building upon the preprocessed CICIDS2017 dataset prepared [here](https://www.kaggle.com/code/ericanacletoribeiro/cicids2017-comprehensive-data-processing-for-ml). This stage focuses on training and evaluating several supervised and unsupervised machine learning models for anomaly-based intrusion detection. The goal is to identify which algorithms perform most effectively in this context, considering both detection accuracy and computational efficiency, crucial for resource-constrained environments.\n",
    "\n",
    "The project aims to build a Network Intrusion Detection System (NIDS) prototype capable of identifying a range of network attacks, including DoS, PortScan and Brute Force. The effectiveness of the chosen algorithms will be assessed using a variety of metrics, including accuracy, precision, recall, F1-score, ROC-AUC, and resource usage (CPU time and memory consumption).\n",
    "\n",
    "**Models Being Evaluated:**\n",
    "\n",
    "* **Supervised Learning:**\n",
    "    * Random Forest\n",
    "    * XGBoost\n",
    "    * Support Vector Machine (SVM)\n",
    "\n",
    "* **Unsupervised Learning:**\n",
    "    * Isolation Forest\n",
    "    * K-Means Clustering\n",
    "\n",
    "**Evaluation Strategy:**\n",
    "\n",
    "Model performance will be rigorously evaluated using k-fold cross-validation on the training data, with a separate hold-out test set used for final model assessment. Resource utilization (CPU and memory) will be monitored during training and testing to assess the efficiency of the algorithms in resource-constrained scenarios.\n",
    "\n",
    "This notebook will present the training process, hyperparameter tuning, performance evaluation, and a comparative analysis of the selected models, providing insights into the most suitable algorithms for anomaly-based intrusion detection in resource-constrained networks. The final goal is to select the best performing model to be integrated into the NIDS prototype."
   ]
  },
  {
   "cell_type": "code",
   "execution_count": 1,
   "id": "732989c6",
   "metadata": {
    "_cell_guid": "b1076dfc-b9ad-4769-8c92-a6c4dae69d19",
    "_uuid": "8f2839f25d086af736a60e9eeb907d3b93b6e0e5",
    "execution": {
     "iopub.execute_input": "2025-01-10T10:40:26.921463Z",
     "iopub.status.busy": "2025-01-10T10:40:26.921185Z",
     "iopub.status.idle": "2025-01-10T10:40:29.432039Z",
     "shell.execute_reply": "2025-01-10T10:40:29.431304Z"
    },
    "papermill": {
     "duration": 2.51696,
     "end_time": "2025-01-10T10:40:29.433709",
     "exception": false,
     "start_time": "2025-01-10T10:40:26.916749",
     "status": "completed"
    },
    "tags": []
   },
   "outputs": [],
   "source": [
    "# Importing the relevant libraries\n",
    "\n",
    "import numpy as np \n",
    "import pandas as pd \n",
    "import matplotlib.pyplot as plt\n",
    "import seaborn as sns\n",
    "\n",
    "from sklearn.ensemble import RandomForestClassifier\n",
    "from sklearn.model_selection import train_test_split, cross_val_score\n",
    "from sklearn.metrics import confusion_matrix, classification_report, accuracy_score\n",
    "\n",
    "from imblearn.under_sampling import RandomUnderSampler\n",
    "from imblearn.over_sampling import SMOTE"
   ]
  },
  {
   "cell_type": "markdown",
   "id": "4efe37e2",
   "metadata": {
    "papermill": {
     "duration": 0.003828,
     "end_time": "2025-01-10T10:40:29.441855",
     "exception": false,
     "start_time": "2025-01-10T10:40:29.438027",
     "status": "completed"
    },
    "tags": []
   },
   "source": [
    "# 1. Loading and Verifying"
   ]
  },
  {
   "cell_type": "code",
   "execution_count": 2,
   "id": "a8aefeb6",
   "metadata": {
    "execution": {
     "iopub.execute_input": "2025-01-10T10:40:29.450200Z",
     "iopub.status.busy": "2025-01-10T10:40:29.449781Z",
     "iopub.status.idle": "2025-01-10T10:41:31.258865Z",
     "shell.execute_reply": "2025-01-10T10:41:31.257765Z"
    },
    "papermill": {
     "duration": 61.815505,
     "end_time": "2025-01-10T10:41:31.260925",
     "exception": false,
     "start_time": "2025-01-10T10:40:29.445420",
     "status": "completed"
    },
    "tags": []
   },
   "outputs": [],
   "source": [
    "# Loading the datasets\n",
    "scaled_df = pd.read_csv('/kaggle/input/cicids2017_scaled.csv')\n",
    "clean_df = pd.read_csv('/kaggle/input/cicids2017_cleaned.csv')"
   ]
  },
  {
   "cell_type": "code",
   "execution_count": 3,
   "id": "a325ddce",
   "metadata": {
    "execution": {
     "iopub.execute_input": "2025-01-10T10:41:31.270246Z",
     "iopub.status.busy": "2025-01-10T10:41:31.270000Z",
     "iopub.status.idle": "2025-01-10T10:41:31.302045Z",
     "shell.execute_reply": "2025-01-10T10:41:31.301195Z"
    },
    "papermill": {
     "duration": 0.038062,
     "end_time": "2025-01-10T10:41:31.303443",
     "exception": false,
     "start_time": "2025-01-10T10:41:31.265381",
     "status": "completed"
    },
    "tags": []
   },
   "outputs": [
    {
     "data": {
      "text/html": [
       "<div>\n",
       "<style scoped>\n",
       "    .dataframe tbody tr th:only-of-type {\n",
       "        vertical-align: middle;\n",
       "    }\n",
       "\n",
       "    .dataframe tbody tr th {\n",
       "        vertical-align: top;\n",
       "    }\n",
       "\n",
       "    .dataframe thead th {\n",
       "        text-align: right;\n",
       "    }\n",
       "</style>\n",
       "<table border=\"1\" class=\"dataframe\">\n",
       "  <thead>\n",
       "    <tr style=\"text-align: right;\">\n",
       "      <th></th>\n",
       "      <th>Destination Port</th>\n",
       "      <th>Flow Duration</th>\n",
       "      <th>Total Fwd Packets</th>\n",
       "      <th>Total Length of Fwd Packets</th>\n",
       "      <th>Fwd Packet Length Max</th>\n",
       "      <th>Fwd Packet Length Min</th>\n",
       "      <th>Fwd Packet Length Mean</th>\n",
       "      <th>Fwd Packet Length Std</th>\n",
       "      <th>Bwd Packet Length Max</th>\n",
       "      <th>Bwd Packet Length Min</th>\n",
       "      <th>...</th>\n",
       "      <th>Init_Win_bytes_backward</th>\n",
       "      <th>act_data_pkt_fwd</th>\n",
       "      <th>min_seg_size_forward</th>\n",
       "      <th>Active Mean</th>\n",
       "      <th>Active Max</th>\n",
       "      <th>Active Min</th>\n",
       "      <th>Idle Mean</th>\n",
       "      <th>Idle Max</th>\n",
       "      <th>Idle Min</th>\n",
       "      <th>Attack Type</th>\n",
       "    </tr>\n",
       "  </thead>\n",
       "  <tbody>\n",
       "    <tr>\n",
       "      <th>0</th>\n",
       "      <td>-0.148718</td>\n",
       "      <td>0.227972</td>\n",
       "      <td>9.75</td>\n",
       "      <td>8.11875</td>\n",
       "      <td>2.122449</td>\n",
       "      <td>-0.054054</td>\n",
       "      <td>0.624470</td>\n",
       "      <td>1.480798</td>\n",
       "      <td>1.187838</td>\n",
       "      <td>0.0</td>\n",
       "      <td>...</td>\n",
       "      <td>1.029661</td>\n",
       "      <td>7.666667</td>\n",
       "      <td>1.0</td>\n",
       "      <td>0.0</td>\n",
       "      <td>0.0</td>\n",
       "      <td>0.0</td>\n",
       "      <td>0.0</td>\n",
       "      <td>0.0</td>\n",
       "      <td>0.0</td>\n",
       "      <td>Normal Traffic</td>\n",
       "    </tr>\n",
       "    <tr>\n",
       "      <th>1</th>\n",
       "      <td>-0.148718</td>\n",
       "      <td>0.237913</td>\n",
       "      <td>9.75</td>\n",
       "      <td>8.11875</td>\n",
       "      <td>2.122449</td>\n",
       "      <td>-0.054054</td>\n",
       "      <td>0.624470</td>\n",
       "      <td>1.480798</td>\n",
       "      <td>1.187838</td>\n",
       "      <td>0.0</td>\n",
       "      <td>...</td>\n",
       "      <td>1.029661</td>\n",
       "      <td>7.666667</td>\n",
       "      <td>1.0</td>\n",
       "      <td>0.0</td>\n",
       "      <td>0.0</td>\n",
       "      <td>0.0</td>\n",
       "      <td>0.0</td>\n",
       "      <td>0.0</td>\n",
       "      <td>0.0</td>\n",
       "      <td>Normal Traffic</td>\n",
       "    </tr>\n",
       "    <tr>\n",
       "      <th>2</th>\n",
       "      <td>-0.148718</td>\n",
       "      <td>-0.009462</td>\n",
       "      <td>-0.25</td>\n",
       "      <td>-0.20625</td>\n",
       "      <td>-0.204082</td>\n",
       "      <td>-0.054054</td>\n",
       "      <td>-0.788043</td>\n",
       "      <td>0.000000</td>\n",
       "      <td>-0.131081</td>\n",
       "      <td>0.0</td>\n",
       "      <td>...</td>\n",
       "      <td>1.029661</td>\n",
       "      <td>-0.333333</td>\n",
       "      <td>1.0</td>\n",
       "      <td>0.0</td>\n",
       "      <td>0.0</td>\n",
       "      <td>0.0</td>\n",
       "      <td>0.0</td>\n",
       "      <td>0.0</td>\n",
       "      <td>0.0</td>\n",
       "      <td>Normal Traffic</td>\n",
       "    </tr>\n",
       "    <tr>\n",
       "      <th>3</th>\n",
       "      <td>-0.148718</td>\n",
       "      <td>0.234938</td>\n",
       "      <td>9.75</td>\n",
       "      <td>8.31875</td>\n",
       "      <td>2.122449</td>\n",
       "      <td>-0.054054</td>\n",
       "      <td>0.658404</td>\n",
       "      <td>1.484375</td>\n",
       "      <td>1.187838</td>\n",
       "      <td>0.0</td>\n",
       "      <td>...</td>\n",
       "      <td>1.029661</td>\n",
       "      <td>7.666667</td>\n",
       "      <td>1.0</td>\n",
       "      <td>0.0</td>\n",
       "      <td>0.0</td>\n",
       "      <td>0.0</td>\n",
       "      <td>0.0</td>\n",
       "      <td>0.0</td>\n",
       "      <td>0.0</td>\n",
       "      <td>Normal Traffic</td>\n",
       "    </tr>\n",
       "    <tr>\n",
       "      <th>4</th>\n",
       "      <td>90.553846</td>\n",
       "      <td>-0.009478</td>\n",
       "      <td>-0.25</td>\n",
       "      <td>-0.20625</td>\n",
       "      <td>-0.204082</td>\n",
       "      <td>-0.054054</td>\n",
       "      <td>-0.788043</td>\n",
       "      <td>0.000000</td>\n",
       "      <td>-0.131081</td>\n",
       "      <td>0.0</td>\n",
       "      <td>...</td>\n",
       "      <td>1.228814</td>\n",
       "      <td>-0.333333</td>\n",
       "      <td>1.0</td>\n",
       "      <td>0.0</td>\n",
       "      <td>0.0</td>\n",
       "      <td>0.0</td>\n",
       "      <td>0.0</td>\n",
       "      <td>0.0</td>\n",
       "      <td>0.0</td>\n",
       "      <td>Normal Traffic</td>\n",
       "    </tr>\n",
       "  </tbody>\n",
       "</table>\n",
       "<p>5 rows × 55 columns</p>\n",
       "</div>"
      ],
      "text/plain": [
       "   Destination Port  Flow Duration  Total Fwd Packets  \\\n",
       "0         -0.148718       0.227972               9.75   \n",
       "1         -0.148718       0.237913               9.75   \n",
       "2         -0.148718      -0.009462              -0.25   \n",
       "3         -0.148718       0.234938               9.75   \n",
       "4         90.553846      -0.009478              -0.25   \n",
       "\n",
       "   Total Length of Fwd Packets  Fwd Packet Length Max  Fwd Packet Length Min  \\\n",
       "0                      8.11875               2.122449              -0.054054   \n",
       "1                      8.11875               2.122449              -0.054054   \n",
       "2                     -0.20625              -0.204082              -0.054054   \n",
       "3                      8.31875               2.122449              -0.054054   \n",
       "4                     -0.20625              -0.204082              -0.054054   \n",
       "\n",
       "   Fwd Packet Length Mean  Fwd Packet Length Std  Bwd Packet Length Max  \\\n",
       "0                0.624470               1.480798               1.187838   \n",
       "1                0.624470               1.480798               1.187838   \n",
       "2               -0.788043               0.000000              -0.131081   \n",
       "3                0.658404               1.484375               1.187838   \n",
       "4               -0.788043               0.000000              -0.131081   \n",
       "\n",
       "   Bwd Packet Length Min  ...  Init_Win_bytes_backward  act_data_pkt_fwd  \\\n",
       "0                    0.0  ...                 1.029661          7.666667   \n",
       "1                    0.0  ...                 1.029661          7.666667   \n",
       "2                    0.0  ...                 1.029661         -0.333333   \n",
       "3                    0.0  ...                 1.029661          7.666667   \n",
       "4                    0.0  ...                 1.228814         -0.333333   \n",
       "\n",
       "   min_seg_size_forward  Active Mean  Active Max  Active Min  Idle Mean  \\\n",
       "0                   1.0          0.0         0.0         0.0        0.0   \n",
       "1                   1.0          0.0         0.0         0.0        0.0   \n",
       "2                   1.0          0.0         0.0         0.0        0.0   \n",
       "3                   1.0          0.0         0.0         0.0        0.0   \n",
       "4                   1.0          0.0         0.0         0.0        0.0   \n",
       "\n",
       "   Idle Max  Idle Min     Attack Type  \n",
       "0       0.0       0.0  Normal Traffic  \n",
       "1       0.0       0.0  Normal Traffic  \n",
       "2       0.0       0.0  Normal Traffic  \n",
       "3       0.0       0.0  Normal Traffic  \n",
       "4       0.0       0.0  Normal Traffic  \n",
       "\n",
       "[5 rows x 55 columns]"
      ]
     },
     "execution_count": 3,
     "metadata": {},
     "output_type": "execute_result"
    }
   ],
   "source": [
    "# Quick look at the datasets\n",
    "scaled_df.head()"
   ]
  },
  {
   "cell_type": "code",
   "execution_count": 4,
   "id": "ca144154",
   "metadata": {
    "execution": {
     "iopub.execute_input": "2025-01-10T10:41:31.312635Z",
     "iopub.status.busy": "2025-01-10T10:41:31.312388Z",
     "iopub.status.idle": "2025-01-10T10:41:31.329740Z",
     "shell.execute_reply": "2025-01-10T10:41:31.328956Z"
    },
    "papermill": {
     "duration": 0.02333,
     "end_time": "2025-01-10T10:41:31.330986",
     "exception": false,
     "start_time": "2025-01-10T10:41:31.307656",
     "status": "completed"
    },
    "tags": []
   },
   "outputs": [
    {
     "data": {
      "text/html": [
       "<div>\n",
       "<style scoped>\n",
       "    .dataframe tbody tr th:only-of-type {\n",
       "        vertical-align: middle;\n",
       "    }\n",
       "\n",
       "    .dataframe tbody tr th {\n",
       "        vertical-align: top;\n",
       "    }\n",
       "\n",
       "    .dataframe thead th {\n",
       "        text-align: right;\n",
       "    }\n",
       "</style>\n",
       "<table border=\"1\" class=\"dataframe\">\n",
       "  <thead>\n",
       "    <tr style=\"text-align: right;\">\n",
       "      <th></th>\n",
       "      <th>Destination Port</th>\n",
       "      <th>Flow Duration</th>\n",
       "      <th>Total Fwd Packets</th>\n",
       "      <th>Total Length of Fwd Packets</th>\n",
       "      <th>Fwd Packet Length Max</th>\n",
       "      <th>Fwd Packet Length Min</th>\n",
       "      <th>Fwd Packet Length Mean</th>\n",
       "      <th>Fwd Packet Length Std</th>\n",
       "      <th>Bwd Packet Length Max</th>\n",
       "      <th>Bwd Packet Length Min</th>\n",
       "      <th>...</th>\n",
       "      <th>Init_Win_bytes_backward</th>\n",
       "      <th>act_data_pkt_fwd</th>\n",
       "      <th>min_seg_size_forward</th>\n",
       "      <th>Active Mean</th>\n",
       "      <th>Active Max</th>\n",
       "      <th>Active Min</th>\n",
       "      <th>Idle Mean</th>\n",
       "      <th>Idle Max</th>\n",
       "      <th>Idle Min</th>\n",
       "      <th>Attack Type</th>\n",
       "    </tr>\n",
       "  </thead>\n",
       "  <tbody>\n",
       "    <tr>\n",
       "      <th>0</th>\n",
       "      <td>22</td>\n",
       "      <td>1266342</td>\n",
       "      <td>41</td>\n",
       "      <td>2664</td>\n",
       "      <td>456</td>\n",
       "      <td>0</td>\n",
       "      <td>64.975610</td>\n",
       "      <td>109.864573</td>\n",
       "      <td>976</td>\n",
       "      <td>0</td>\n",
       "      <td>...</td>\n",
       "      <td>243</td>\n",
       "      <td>24</td>\n",
       "      <td>32</td>\n",
       "      <td>0.0</td>\n",
       "      <td>0</td>\n",
       "      <td>0</td>\n",
       "      <td>0.0</td>\n",
       "      <td>0</td>\n",
       "      <td>0</td>\n",
       "      <td>Normal Traffic</td>\n",
       "    </tr>\n",
       "    <tr>\n",
       "      <th>1</th>\n",
       "      <td>22</td>\n",
       "      <td>1319353</td>\n",
       "      <td>41</td>\n",
       "      <td>2664</td>\n",
       "      <td>456</td>\n",
       "      <td>0</td>\n",
       "      <td>64.975610</td>\n",
       "      <td>109.864573</td>\n",
       "      <td>976</td>\n",
       "      <td>0</td>\n",
       "      <td>...</td>\n",
       "      <td>243</td>\n",
       "      <td>24</td>\n",
       "      <td>32</td>\n",
       "      <td>0.0</td>\n",
       "      <td>0</td>\n",
       "      <td>0</td>\n",
       "      <td>0.0</td>\n",
       "      <td>0</td>\n",
       "      <td>0</td>\n",
       "      <td>Normal Traffic</td>\n",
       "    </tr>\n",
       "    <tr>\n",
       "      <th>2</th>\n",
       "      <td>22</td>\n",
       "      <td>160</td>\n",
       "      <td>1</td>\n",
       "      <td>0</td>\n",
       "      <td>0</td>\n",
       "      <td>0</td>\n",
       "      <td>0.000000</td>\n",
       "      <td>0.000000</td>\n",
       "      <td>0</td>\n",
       "      <td>0</td>\n",
       "      <td>...</td>\n",
       "      <td>243</td>\n",
       "      <td>0</td>\n",
       "      <td>32</td>\n",
       "      <td>0.0</td>\n",
       "      <td>0</td>\n",
       "      <td>0</td>\n",
       "      <td>0.0</td>\n",
       "      <td>0</td>\n",
       "      <td>0</td>\n",
       "      <td>Normal Traffic</td>\n",
       "    </tr>\n",
       "    <tr>\n",
       "      <th>3</th>\n",
       "      <td>22</td>\n",
       "      <td>1303488</td>\n",
       "      <td>41</td>\n",
       "      <td>2728</td>\n",
       "      <td>456</td>\n",
       "      <td>0</td>\n",
       "      <td>66.536585</td>\n",
       "      <td>110.129945</td>\n",
       "      <td>976</td>\n",
       "      <td>0</td>\n",
       "      <td>...</td>\n",
       "      <td>243</td>\n",
       "      <td>24</td>\n",
       "      <td>32</td>\n",
       "      <td>0.0</td>\n",
       "      <td>0</td>\n",
       "      <td>0</td>\n",
       "      <td>0.0</td>\n",
       "      <td>0</td>\n",
       "      <td>0</td>\n",
       "      <td>Normal Traffic</td>\n",
       "    </tr>\n",
       "    <tr>\n",
       "      <th>4</th>\n",
       "      <td>35396</td>\n",
       "      <td>77</td>\n",
       "      <td>1</td>\n",
       "      <td>0</td>\n",
       "      <td>0</td>\n",
       "      <td>0</td>\n",
       "      <td>0.000000</td>\n",
       "      <td>0.000000</td>\n",
       "      <td>0</td>\n",
       "      <td>0</td>\n",
       "      <td>...</td>\n",
       "      <td>290</td>\n",
       "      <td>0</td>\n",
       "      <td>32</td>\n",
       "      <td>0.0</td>\n",
       "      <td>0</td>\n",
       "      <td>0</td>\n",
       "      <td>0.0</td>\n",
       "      <td>0</td>\n",
       "      <td>0</td>\n",
       "      <td>Normal Traffic</td>\n",
       "    </tr>\n",
       "  </tbody>\n",
       "</table>\n",
       "<p>5 rows × 55 columns</p>\n",
       "</div>"
      ],
      "text/plain": [
       "   Destination Port  Flow Duration  Total Fwd Packets  \\\n",
       "0                22        1266342                 41   \n",
       "1                22        1319353                 41   \n",
       "2                22            160                  1   \n",
       "3                22        1303488                 41   \n",
       "4             35396             77                  1   \n",
       "\n",
       "   Total Length of Fwd Packets  Fwd Packet Length Max  Fwd Packet Length Min  \\\n",
       "0                         2664                    456                      0   \n",
       "1                         2664                    456                      0   \n",
       "2                            0                      0                      0   \n",
       "3                         2728                    456                      0   \n",
       "4                            0                      0                      0   \n",
       "\n",
       "   Fwd Packet Length Mean  Fwd Packet Length Std  Bwd Packet Length Max  \\\n",
       "0               64.975610             109.864573                    976   \n",
       "1               64.975610             109.864573                    976   \n",
       "2                0.000000               0.000000                      0   \n",
       "3               66.536585             110.129945                    976   \n",
       "4                0.000000               0.000000                      0   \n",
       "\n",
       "   Bwd Packet Length Min  ...  Init_Win_bytes_backward  act_data_pkt_fwd  \\\n",
       "0                      0  ...                      243                24   \n",
       "1                      0  ...                      243                24   \n",
       "2                      0  ...                      243                 0   \n",
       "3                      0  ...                      243                24   \n",
       "4                      0  ...                      290                 0   \n",
       "\n",
       "   min_seg_size_forward  Active Mean  Active Max  Active Min  Idle Mean  \\\n",
       "0                    32          0.0           0           0        0.0   \n",
       "1                    32          0.0           0           0        0.0   \n",
       "2                    32          0.0           0           0        0.0   \n",
       "3                    32          0.0           0           0        0.0   \n",
       "4                    32          0.0           0           0        0.0   \n",
       "\n",
       "   Idle Max  Idle Min     Attack Type  \n",
       "0         0         0  Normal Traffic  \n",
       "1         0         0  Normal Traffic  \n",
       "2         0         0  Normal Traffic  \n",
       "3         0         0  Normal Traffic  \n",
       "4         0         0  Normal Traffic  \n",
       "\n",
       "[5 rows x 55 columns]"
      ]
     },
     "execution_count": 4,
     "metadata": {},
     "output_type": "execute_result"
    }
   ],
   "source": [
    "# Quick look at the datasets\n",
    "clean_df.head()"
   ]
  },
  {
   "cell_type": "markdown",
   "id": "57d8ac9d",
   "metadata": {
    "papermill": {
     "duration": 0.003954,
     "end_time": "2025-01-10T10:41:31.339338",
     "exception": false,
     "start_time": "2025-01-10T10:41:31.335384",
     "status": "completed"
    },
    "tags": []
   },
   "source": [
    "## 1.1. Preparing Training and Test Sets"
   ]
  },
  {
   "cell_type": "code",
   "execution_count": 5,
   "id": "c52fd03c",
   "metadata": {
    "execution": {
     "iopub.execute_input": "2025-01-10T10:41:31.348462Z",
     "iopub.status.busy": "2025-01-10T10:41:31.348192Z",
     "iopub.status.idle": "2025-01-10T10:41:31.526459Z",
     "shell.execute_reply": "2025-01-10T10:41:31.525544Z"
    },
    "papermill": {
     "duration": 0.184371,
     "end_time": "2025-01-10T10:41:31.527823",
     "exception": false,
     "start_time": "2025-01-10T10:41:31.343452",
     "status": "completed"
    },
    "tags": []
   },
   "outputs": [
    {
     "data": {
      "text/plain": [
       "Attack Type\n",
       "Normal Traffic    2095057\n",
       "DoS                193745\n",
       "DDoS               128014\n",
       "Port Scanning       90694\n",
       "Brute Force          9150\n",
       "Web Attacks          2143\n",
       "Bots                 1948\n",
       "Name: count, dtype: int64"
      ]
     },
     "execution_count": 5,
     "metadata": {},
     "output_type": "execute_result"
    }
   ],
   "source": [
    "# Checking the distribution of the target variable\n",
    "clean_df['Attack Type'].value_counts()"
   ]
  },
  {
   "cell_type": "markdown",
   "id": "803d1106",
   "metadata": {
    "papermill": {
     "duration": 0.00418,
     "end_time": "2025-01-10T10:41:31.536754",
     "exception": false,
     "start_time": "2025-01-10T10:41:31.532574",
     "status": "completed"
    },
    "tags": []
   },
   "source": [
    "The dataset shows a considerable imbalance, as already discussed in the [previous notebook](https://www.kaggle.com/datasets/ericanacletoribeiro/cicids2017-cleaned-and-preprocessed). Since cross-validation results are already available without addressing this imbalance (serving as a benchmark), the decision here is to undersample the majority class to reduce complexity while aiming to maintain performance. This can help the model pay more attention to the less frequent attack types, which are often the focus in intrusion detection systems."
   ]
  },
  {
   "cell_type": "code",
   "execution_count": 6,
   "id": "76f652d1",
   "metadata": {
    "execution": {
     "iopub.execute_input": "2025-01-10T10:41:31.545808Z",
     "iopub.status.busy": "2025-01-10T10:41:31.545460Z",
     "iopub.status.idle": "2025-01-10T10:41:40.307067Z",
     "shell.execute_reply": "2025-01-10T10:41:40.305892Z"
    },
    "papermill": {
     "duration": 8.768196,
     "end_time": "2025-01-10T10:41:40.308968",
     "exception": false,
     "start_time": "2025-01-10T10:41:31.540772",
     "status": "completed"
    },
    "tags": []
   },
   "outputs": [],
   "source": [
    "# Preparing training and test splits\n",
    "X_scaled = scaled_df.drop('Attack Type', axis=1)\n",
    "y_scaled = scaled_df['Attack Type']\n",
    "\n",
    "X_clean = clean_df.drop('Attack Type', axis=1)\n",
    "y_clean = clean_df['Attack Type']\n",
    "\n",
    "X_train_scaled, X_test_scaled, y_train_scaled, y_test_scaled = train_test_split(X_scaled, y_scaled, test_size=0.3, random_state=42, stratify=y_scaled)\n",
    "\n",
    "X_train_clean, X_test_clean, y_train_clean, y_test_clean = train_test_split(X_clean, y_clean, test_size=0.3, random_state=42, stratify=y_clean)"
   ]
  },
  {
   "cell_type": "markdown",
   "id": "431a1f8b",
   "metadata": {
    "papermill": {
     "duration": 0.004334,
     "end_time": "2025-01-10T10:41:40.317872",
     "exception": false,
     "start_time": "2025-01-10T10:41:40.313538",
     "status": "completed"
    },
    "tags": []
   },
   "source": [
    "Applying undersampling from imbalanced-learn"
   ]
  },
  {
   "cell_type": "code",
   "execution_count": 7,
   "id": "675a908d",
   "metadata": {
    "execution": {
     "iopub.execute_input": "2025-01-10T10:41:40.326974Z",
     "iopub.status.busy": "2025-01-10T10:41:40.326708Z",
     "iopub.status.idle": "2025-01-10T10:41:58.913311Z",
     "shell.execute_reply": "2025-01-10T10:41:58.912543Z"
    },
    "papermill": {
     "duration": 18.593077,
     "end_time": "2025-01-10T10:41:58.914909",
     "exception": false,
     "start_time": "2025-01-10T10:41:40.321832",
     "status": "completed"
    },
    "tags": []
   },
   "outputs": [],
   "source": [
    "# Initializing the undersampling\n",
    "X_train_under, y_train_under = RandomUnderSampler(sampling_strategy={'Normal Traffic': 500000}, random_state=42).fit_resample(X_train_clean, y_train_clean)\n",
    "\n",
    "X_train_under_scaled, y_train_under_scaled = RandomUnderSampler(sampling_strategy={'Normal Traffic': 500000}, random_state=42).fit_resample(X_train_scaled, y_train_scaled)"
   ]
  },
  {
   "cell_type": "markdown",
   "id": "9a82d63b",
   "metadata": {
    "papermill": {
     "duration": 0.004585,
     "end_time": "2025-01-10T10:41:58.924575",
     "exception": false,
     "start_time": "2025-01-10T10:41:58.919990",
     "status": "completed"
    },
    "tags": []
   },
   "source": [
    "In order to further balance the training set, we can also partialy oversample the minority classes with SMOTE. _Synthetic Minority Over-sampling Technique_ is a widely-used method to address class imbalance in datasets by generating synthetic samples for the minority class, rather than merely duplicating existing ones."
   ]
  },
  {
   "cell_type": "code",
   "execution_count": 8,
   "id": "dc31891d",
   "metadata": {
    "execution": {
     "iopub.execute_input": "2025-01-10T10:41:58.934441Z",
     "iopub.status.busy": "2025-01-10T10:41:58.934182Z",
     "iopub.status.idle": "2025-01-10T10:42:31.297183Z",
     "shell.execute_reply": "2025-01-10T10:42:31.296404Z"
    },
    "papermill": {
     "duration": 32.369818,
     "end_time": "2025-01-10T10:42:31.299034",
     "exception": false,
     "start_time": "2025-01-10T10:41:58.929216",
     "status": "completed"
    },
    "tags": []
   },
   "outputs": [],
   "source": [
    "# Initializing the oversampling\n",
    "X_train_resampled, y_train_resampled = SMOTE(sampling_strategy={'Bots': 2000, 'Web Attacks': 2000, 'Brute Force': 7000, 'Port Scanning': 70000}, random_state=42).fit_resample(X_train_under, y_train_under)\n",
    "\n",
    "X_train_resampled_scaled, y_train_resampled_scaled = SMOTE(sampling_strategy={'Bots': 2000, 'Web Attacks': 2000, 'Brute Force': 7000, 'Port Scanning': 70000}, random_state=42).fit_resample(X_train_under_scaled, y_train_under_scaled)"
   ]
  },
  {
   "cell_type": "code",
   "execution_count": 9,
   "id": "b6567d73",
   "metadata": {
    "execution": {
     "iopub.execute_input": "2025-01-10T10:42:31.309620Z",
     "iopub.status.busy": "2025-01-10T10:42:31.309273Z",
     "iopub.status.idle": "2025-01-10T10:42:31.366252Z",
     "shell.execute_reply": "2025-01-10T10:42:31.365572Z"
    },
    "papermill": {
     "duration": 0.063616,
     "end_time": "2025-01-10T10:42:31.367659",
     "exception": false,
     "start_time": "2025-01-10T10:42:31.304043",
     "status": "completed"
    },
    "tags": []
   },
   "outputs": [
    {
     "data": {
      "text/plain": [
       "Attack Type\n",
       "Normal Traffic    500000\n",
       "DoS               135621\n",
       "DDoS               89610\n",
       "Port Scanning      70000\n",
       "Brute Force         7000\n",
       "Bots                2000\n",
       "Web Attacks         2000\n",
       "Name: count, dtype: int64"
      ]
     },
     "execution_count": 9,
     "metadata": {},
     "output_type": "execute_result"
    }
   ],
   "source": [
    "# Checking the distribution of the attack types in the resampled dataset\n",
    "y_train_resampled.value_counts()"
   ]
  },
  {
   "cell_type": "markdown",
   "id": "ce621358",
   "metadata": {
    "papermill": {
     "duration": 0.004222,
     "end_time": "2025-01-10T10:42:31.376528",
     "exception": false,
     "start_time": "2025-01-10T10:42:31.372306",
     "status": "completed"
    },
    "tags": []
   },
   "source": [
    "# 2. Supervised Learning"
   ]
  },
  {
   "cell_type": "markdown",
   "id": "f9fa0c08",
   "metadata": {
    "papermill": {
     "duration": 0.00455,
     "end_time": "2025-01-10T10:42:31.385589",
     "exception": false,
     "start_time": "2025-01-10T10:42:31.381039",
     "status": "completed"
    },
    "tags": []
   },
   "source": [
    "## 2.1. Random Forest\n",
    "\n",
    "Random Forest is robust to variance in the data. Therefore, it can be trained on the non-scaled version of the dataset without a significant impact on performance."
   ]
  },
  {
   "cell_type": "code",
   "execution_count": 10,
   "id": "567a8cba",
   "metadata": {
    "execution": {
     "iopub.execute_input": "2025-01-10T10:42:31.395522Z",
     "iopub.status.busy": "2025-01-10T10:42:31.395261Z",
     "iopub.status.idle": "2025-01-10T10:50:40.214342Z",
     "shell.execute_reply": "2025-01-10T10:50:40.213574Z"
    },
    "papermill": {
     "duration": 488.826025,
     "end_time": "2025-01-10T10:50:40.216201",
     "exception": false,
     "start_time": "2025-01-10T10:42:31.390176",
     "status": "completed"
    },
    "tags": []
   },
   "outputs": [],
   "source": [
    "# Creating the Random Forest Classifier\n",
    "rf = RandomForestClassifier(n_estimators=100, random_state=42, n_jobs=-1)\n",
    "\n",
    "# Fitting the model\n",
    "rf.fit(X_train_resampled, y_train_resampled)\n",
    "\n",
    "# Cross validation\n",
    "cv_scores = cross_val_score(rf, X_train_resampled, y_train_resampled, cv=5)\n",
    "\n",
    "# Making predictions\n",
    "y_pred_clean = rf.predict(X_test_clean)"
   ]
  },
  {
   "cell_type": "code",
   "execution_count": 11,
   "id": "e6271a67",
   "metadata": {
    "execution": {
     "iopub.execute_input": "2025-01-10T10:50:40.226557Z",
     "iopub.status.busy": "2025-01-10T10:50:40.226251Z",
     "iopub.status.idle": "2025-01-10T10:50:41.316303Z",
     "shell.execute_reply": "2025-01-10T10:50:41.315316Z"
    },
    "papermill": {
     "duration": 1.096606,
     "end_time": "2025-01-10T10:50:41.317759",
     "exception": false,
     "start_time": "2025-01-10T10:50:40.221153",
     "status": "completed"
    },
    "tags": []
   },
   "outputs": [
    {
     "name": "stdout",
     "output_type": "stream",
     "text": [
      "Cross validation average score: 0.9986 +/- standard deviation: 0.0001\n",
      "Accuracy on the test set: 0.9987\n"
     ]
    }
   ],
   "source": [
    "# Evaluating the model performance on the cross validation set vs accuracy on the test set\n",
    "cv_scores_mean = np.mean(cv_scores)\n",
    "print(f'Cross validation average score: {cv_scores_mean:.4f} +/- standard deviation: {np.std(cv_scores):.4f}')\n",
    "\n",
    "accuracy = accuracy_score(y_test_clean, y_pred_clean)\n",
    "print(f'Accuracy on the test set: {accuracy:.4f}')"
   ]
  },
  {
   "cell_type": "code",
   "execution_count": 12,
   "id": "01444308",
   "metadata": {
    "execution": {
     "iopub.execute_input": "2025-01-10T10:50:41.327807Z",
     "iopub.status.busy": "2025-01-10T10:50:41.327455Z",
     "iopub.status.idle": "2025-01-10T10:50:45.138163Z",
     "shell.execute_reply": "2025-01-10T10:50:45.137208Z"
    },
    "papermill": {
     "duration": 3.81724,
     "end_time": "2025-01-10T10:50:45.139547",
     "exception": false,
     "start_time": "2025-01-10T10:50:41.322307",
     "status": "completed"
    },
    "tags": []
   },
   "outputs": [
    {
     "data": {
      "image/png": "[encoded data removed]",
      "text/plain": [
       "<Figure size 1000x700 with 1 Axes>"
      ]
     },
     "metadata": {},
     "output_type": "display_data"
    }
   ],
   "source": [
    "# Evaluating the model via confusion matrix\n",
    "cm = confusion_matrix(y_test_clean, y_pred_clean)\n",
    "\n",
    "plt.figure(figsize=(10, 7))\n",
    "sns.heatmap(cm, annot=True, fmt='d', xticklabels=rf.classes_, yticklabels=rf.classes_, cmap='Blues', cbar=False)\n",
    "plt.xlabel('Predicted')\n",
    "plt.ylabel('Truth')\n",
    "plt.title('Confusion Matrix')\n",
    "plt.show()"
   ]
  },
  {
   "cell_type": "code",
   "execution_count": 13,
   "id": "f9881258",
   "metadata": {
    "execution": {
     "iopub.execute_input": "2025-01-10T10:50:45.151871Z",
     "iopub.status.busy": "2025-01-10T10:50:45.151605Z",
     "iopub.status.idle": "2025-01-10T10:51:17.238361Z",
     "shell.execute_reply": "2025-01-10T10:51:17.237332Z"
    },
    "papermill": {
     "duration": 32.099659,
     "end_time": "2025-01-10T10:51:17.245044",
     "exception": false,
     "start_time": "2025-01-10T10:50:45.145385",
     "status": "completed"
    },
    "tags": []
   },
   "outputs": [
    {
     "name": "stdout",
     "output_type": "stream",
     "text": [
      "                precision    recall  f1-score   support\n",
      "\n",
      "          Bots       0.71      0.87      0.79       584\n",
      "   Brute Force       1.00      1.00      1.00      2745\n",
      "          DDoS       1.00      1.00      1.00     38404\n",
      "           DoS       1.00      1.00      1.00     58124\n",
      "Normal Traffic       1.00      1.00      1.00    628518\n",
      " Port Scanning       0.99      1.00      0.99     27208\n",
      "   Web Attacks       0.99      0.98      0.98       643\n",
      "\n",
      "      accuracy                           1.00    756226\n",
      "     macro avg       0.96      0.98      0.97    756226\n",
      "  weighted avg       1.00      1.00      1.00    756226\n",
      "\n"
     ]
    }
   ],
   "source": [
    "print(classification_report(y_test_clean, y_pred_clean))"
   ]
  },
  {
   "cell_type": "markdown",
   "id": "b22d9ec1",
   "metadata": {
    "papermill": {
     "duration": 0.005041,
     "end_time": "2025-01-10T10:51:17.255913",
     "exception": false,
     "start_time": "2025-01-10T10:51:17.250872",
     "status": "completed"
    },
    "tags": []
   },
   "source": [
    "With a mean cross-validation score of 0.9986 and an accuracy score of 0.9987, the model demonstrates strong performance without signs of underfitting or overfitting. Additionally, the confusion matrix reveals a significant improvement in recall (from 0.50 to 0.88) and F1-score (from 0.63 to 0.79) for the 'Bots' class compared to the benchmark model ([available here](https://www.kaggle.com/code/ericanacletoribeiro/cicids2017-comprehensive-data-processing-for-ml)).\n",
    "While the precision score for the 'Bots' class decreased from 0.86 to 0.71, the trade-off is justified in the context of a NIDS. In such systems, minimizing false negatives is crucial, as undetected threats can compromise network security. False positives, while inconvenient, are less harmful than false negatives. This improvement in recall indicates that the model is now better at detecting 'Bots' attacks, validating the effectiveness of resampling techniques for this dataset.\n",
    "Additionally, although additional steps, such as incorporating class weights, could further enhance the model's performance, these optimizations are better suited for advanced algorithms like XGBoost, which is the next technique we explore in our analysis."
   ]
  },
  {
   "cell_type": "markdown",
   "id": "5317f460",
   "metadata": {
    "papermill": {
     "duration": 0.004883,
     "end_time": "2025-01-10T10:51:17.266846",
     "exception": false,
     "start_time": "2025-01-10T10:51:17.261963",
     "status": "completed"
    },
    "tags": []
   },
   "source": [
    "## 2.2. XGBoost"
   ]
  }
 ],
 "metadata": {
  "kaggle": {
   "accelerator": "none",
   "dataSources": [
    {
     "datasetId": 6452957,
     "sourceId": 10414520,
     "sourceType": "datasetVersion"
    }
   ],
   "dockerImageVersionId": 30822,
   "isGpuEnabled": false,
   "isInternetEnabled": true,
   "language": "python",
   "sourceType": "notebook"
  },
  "kernelspec": {
   "display_name": "Python 3",
   "language": "python",
   "name": "python3"
  },
  "language_info": {
   "codemirror_mode": {
    "name": "ipython",
    "version": 3
   },
   "file_extension": ".py",
   "mimetype": "text/x-python",
   "name": "python",
   "nbconvert_exporter": "python",
   "pygments_lexer": "ipython3",
   "version": "3.10.12"
  },
  "papermill": {
   "default_parameters": {},
   "duration": 653.116481,
   "end_time": "2025-01-10T10:51:18.092285",
   "environment_variables": {},
   "exception": null,
   "input_path": "__notebook__.ipynb",
   "output_path": "__notebook__.ipynb",
   "parameters": {},
   "start_time": "2025-01-10T10:40:24.975804",
   "version": "2.6.0"
  }
 },
 "nbformat": 4,
 "nbformat_minor": 5
}
